{
 "cells": [
  {
   "cell_type": "markdown",
   "metadata": {},
   "source": [
    "<p style=\"font-family: helvetica,arial,sans-serif; font-size:2.0em;color:white; background-color: black\">&emsp;<b>Ideal Green Roof Locations: Melbourne</b></p>\n",
    "\n",
    "<p style=\"font-family: helvetica,arial,sans-serif; font-size:1.6em;color:black; background-color: #DDDDDD; text-align:justify\">&emsp;<b>Authored by: </b> Ryan Waites, Hannah Smith</p>"
   ]
  },
  {
   "cell_type": "markdown",
   "metadata": {},
   "source": [
    "<p style=\"font-family: helvetica,arial,sans-serif; font-size:1.6em;color:white; background-color: black; text-align:right\"><b>Duration:</b> 120 mins&emsp;</p>\n",
    "\n",
    "<p style=\"font-family: helvetica,arial,sans-serif; font-size:1.6em;color:black; background-color: #DDDDDD; text-align:justify\">&emsp;<b>Level: </b>Beginner &emsp;&emsp;&emsp;&emsp;&emsp;&emsp;&emsp;&emsp;<b>Pre-requisite Skills: </b>Python</p>"
   ]
  },
  {
   "cell_type": "markdown",
   "metadata": {},
   "source": [
    "<p style=\"font-family: helvetica,arial,sans-serif; font-size:1.6em;color:white; background-color: black\">&emsp;<b>Scenario</b>"
   ]
  },
  {
   "cell_type": "markdown",
   "metadata": {},
   "source": [
    "**1. As a city planner, I want to identify the locations which could most benefit from retrofitting with a green roof.**\n",
    "\n",
    "**2. As a building manager or owner of a residence, I want to visualise the impact of retrofitting my building for energy efficiency and greening.**\n",
    "\n"
   ]
  },
  {
   "cell_type": "markdown",
   "metadata": {},
   "source": [
    "<p style=\"font-family: helvetica,arial,sans-serif; font-size:1.6em;color:white; background-color: black\">&emsp;<b>Learning objectives</b>"
   ]
  },
  {
   "cell_type": "markdown",
   "metadata": {},
   "source": [
    "At the end of this use case you will be able to:\n",
    "- (add later)"
   ]
  },
  {
   "cell_type": "markdown",
   "metadata": {},
   "source": [
    "<p style=\"font-family: helvetica,arial,sans-serif; font-size:1.6em;color:white; background-color: black\">&emsp;<b>Why the interest in green roofs?</b>\n",
    "\n"
   ]
  },
  {
   "cell_type": "markdown",
   "metadata": {},
   "source": [
    "##### What is a green roof?\n",
    "\n",
    "Green roofs are rooftops systems with plants in a growing medium, which are usually irrigated in drier climates. They can be:\n",
    "\n",
    "- _Extensive_: growing in a shallower medium, generally low growing plants like succulents or grasses\n",
    "- _Intensive_: growing in a deeper medium, with taller vegetation including shrubs or trees\n",
    "- _Semi\\-intensive_: partway between\n",
    "\n",
    "In Melbourne's climate even extensive green roofs may need to be irrigated.\n",
    "\n",
    "##### How is this relevant to Melbourne?\n",
    "\n",
    "Roofs make up about 23% of the total space in the City of Melbourne \\[1\\], and over 90% of rooftops which are suitable for extensive roofs are also suitable for intensive. Therefore, there is a significant potential for green roofs to contribute to the urban forest target the council has set for 2040 \\[2\\].\n",
    "\n",
    "Building turnover in the centre of Melbourne is slow, therefore the best approach is to identify retrofitting opportunities in the suitable existing buildings \\[2\\]. \n",
    "\n",
    "Urban areas with an elevated temperature relative to the rural surroundings is known as the urban heat island \\(UHI\\) effect \\[3\\]. It can refer to both the urban surface temperatures on roads, footpaths, and building envelopes as well as the ambient temperature. There is evidence of the UHI in Melbourne with an average annual intensity of approximately 1.5 degrees Celcius \\[4\\]. \n",
    "\n",
    "The UHI threatens the economy by reducing productivity, increases the need for cooling and thus impacts energy consumption, and is associated with poorer air quality and a number of health risks \\[5\\]. In Melbourne, simulations of thermal environments for residential buildings indicate that doubling the amount of vegetation is estimated to reduce heat\\-related deaths by 5\\-28%. \\[6\\]. \n",
    "\n",
    "##### What are the benefits of green roofs?\n",
    "\n",
    "Green roofs and walls mitigate the UHI by providing shade which blocks solar radiation from reaching urban surfaces, and by the vegetation absorbing and dissipating the radiation. This provices energy savings to the building owner, as well as cooling and comfort to the building users. For private busineses, this can improve productivity due to the improved interior comfort, and due to the psychological benefits of viewing vegetation \\[7\\]. \n",
    "\n",
    "In Melbourne, extensive green roofs were shown to reduce building energy use by 28% in summer\\[7\\]. Urban vegetation also increases urban ecology and biodiversity and provides amentity to the people using the urban spaces \\[8\\]. Green roofs make buildings cooler in summer and warmer in winter, provide barriers against noise pollution by reflecting sound as well as produce oxygen whilst capturing CO2 and other pollutants \\[9\\]. Ideally, trees should be used in combination with grasses, shrubs and planters for the optimum cooling effect \\[10\\], and it is more effective to use multiple UHI mitigation strategies at the same time \\(cool materials, green roofs, green walls, and urban greenery\\) \\[4\\]. \n",
    "\n",
    "In addition, green roofs are an effective and sustainable tool to assist with the management of stormwater quality and quantity. The rainwater is initially stored in the soil and then the vegetation, often reducing peak runoff and volume in contrast to conventional roofs. A study conducted in the highly urbanized city of Seoul, South Korea, found the green roof to have an average runoff retention ranging from 10% to 60% \\[11\\] whilst a study simulating Melbournes rainfall patterns, commonly frequent and small, found they had the potential to retain up to 90% each rainfall \\[12\\]. These effects, in combination with the delaying of runoff, can greatly reduce the chances of flash flooding in highly urbanized areas and the load on urban drainage \\[13\\].\n",
    "\n",
    "\\[1\\] GHD \\(2015\\) Rooftop Adaptation Study: Green Roofs, Cool Roofs and Solar Panels Final Report, City of Melbourne, Melbourne, 75 pp.\n",
    "\n",
    "\\[2\\] Jones, R \\(2018\\) \\*Valuing Green Guide. Green Roofs, Walls And Façades\\*. Project Report. City of Melbourne, Melbourne, Australia.\n",
    "\n",
    "\\[3\\]: Howard L \\(1818\\) _The Climate of London: Deduced from Metereological Observations, Made at Different Places in the Neighbourhood of the Metropolis_, Howard W. Philllips, London, UK.\n",
    "\n",
    "\\[4\\] Yenneti K, Ding L, Prasad D, Ulpiani G, Paolini R, Haddad S, Santamouris M. Urban Overheating and Cooling Potential in Australia: An Evidence\\-Based Review. Climate. 2020; 8\\(11\\):126. https://doi.org/10.3390/cli8110126\n",
    "\n",
    "\\[5\\] Price, A., Jones, E.C. & Jefferson, F. Vertical Greenery Systems as a Strategy in Urban Heat Island Mitigation. Water Air Soil Pollut 226, 247 \\(2015\\). [https://doi.org/10.1007/s11270\\-015\\-2464\\-9](https://doi.org/10.1007/s11270-015-2464-9)\n",
    "\n",
    "\\[6\\] Chen D, Wang X, Thatcher M, Barnett G, Kachenko A, and Prince R \\(2014\\) 'Urban vegetation for reducing heat related mortality', _Environmental Pollution 192_ 275\\-284.\n",
    "\n",
    "\\[7\\] Williams, Nicholas & Rayner, John & Lee, Kate & Fletcher, Tim & Chen, D. & Szota, Chris & Farrell, Claire. \\(2016\\). Developing Australian green roofs: Overview of a 5\\-year research program. Acta Horticulturae. 1108. 345\\-352. 10.17660/ActaHortic.2016.1108.46. \n",
    "\n",
    "\\[8\\]: Hayes AT, Jandaghian Z, Lacasse MA, Gaur A, Lu H, Laouadi A, Ge H, and Wang L \\(2022\\) 'Nature\\-based solutions \\(NBSs\\) to mitigate urban heat island \\(UHI\\) effects in Canadian cities', _Buildings 12_\\(925\\). https://doi.org/10.3390/buildings12070925\n",
    "\n",
    "\\[9\\] Guattari C, Evangelisti L, Asdrubali F, and De Lieto Vollaro R \\(2020\\) 'Experimental evaluation and numerical simulation of the thermal performance of a green roof', _Applied Sciences 10_\\(1767\\), https://doi.org/10.3390/app10051767\n",
    "\n",
    "\\[10\\] Fu J, Dupre K, Tavares S, King, D, and Banhalmi\\-Zakar Z \\(2022\\) 'Optimized greenery configuration to mitigate urban heat: A decade systematic review'_, \\*Frontiers of Architectural Research 11\\*, 466\\-491._\n",
    "\n",
    "\\[11\\] S. Jusić, E. Hadžić, and H. Milišić \\(2019\\) 'Stormwater Management by Green Roof', _Acta Scientific: Agriculture_, 3\\(7\\):57\\-62, DOI: 10.31080/ASAG.2019.03.0516\n",
    "\n",
    "\\[12\\] Z. Zhang, C. Szota, T. D. Fletcher, N. S. G. Williams, and C  Farrell \\(2019\\) 'Green roof storage capacity can be more imporatnt than evapotranspiration for retention performance', _Journal of Environmental Management_, 232:404\\-412, DOI: 10.1016/j.jenvman.2018.11.070\n",
    "\n",
    "\\[13\\] M. Shafique, R. Kim, and K. Kyung\\-Ho \\(2018\\) 'Green Roof for Stormwater Management in a Highly Urbanized Area: The Case of Seoul, Korea', _Sustainability_, 10\\(3\\):584, DOI: 10.3390/su10030584\n",
    "\n"
   ]
  },
  {
   "cell_type": "markdown",
   "metadata": {},
   "source": [
    "<p style=\"font-family: helvetica,arial,sans-serif; font-size:1.6em;color:white; background-color: black\">&emsp;<b>Relevant datasets</b>"
   ]
  },
  {
   "cell_type": "markdown",
   "metadata": {},
   "source": [
    "**The Rooftop Project**\n",
    "This dataset uses a spatial multi-criteria analysis to classify buildings based on the possibility of adapting their rooftops for either intensive or extensive greenroofs. The buildings are located in the City of Melbourne.\n",
    "\n",
    "- https://data.melbourne.vic.gov.au/Environment/Rooftops\\-with\\-environmental\\-retrofitting\\-opportuni/3927\\-sgfc\n",
    "\n",
    "****\n",
    "\n",
    "**Building energy consumption**\n",
    "This dataset outlines a model of energy consumption in the City of Melbourne based on building attributes (age, floor area, etc) and is presented at property level scale. This model was developed by the CSIRO based on a baseline from 2011 to compare a potential reduction in energy consumption available in retrofitting is done. This retrofitting could be done demand-side (improving energy efficiency) or supply-side (by generating electricity on-site). The supply side considered roof size for placement of solar panels, but only considered 10% of that space to be potentially available for solar panels. The \"business as usual\" projections are property-level, but the retrofit scenario only is at block level due to privacy reasons.\n",
    "\n",
    "- [https://data.melbourne.vic.gov.au/Environment/Property\\-level\\-energy\\-consumption\\-modelled\\-on\\-buil/fyes\\-zqbt](https://data.melbourne.vic.gov.au/Environment/Property-level-energy-consumption-modelled-on-buil/fyes-zqbt) \n",
    "- https://data.melbourne.vic.gov.au/Environment/Block\\-level\\-energy\\-consumption\\-modelled\\-on\\-buildin/pyua\\-izk6\n",
    "\n"
   ]
  },
  {
   "cell_type": "code",
   "execution_count": 1,
   "metadata": {},
   "outputs": [],
   "source": [
    "import os\n",
    "\n",
    "import numpy as np\n",
    "import pandas as pd\n",
    "import geopandas as gpd\n",
    "\n",
    "import folium\n",
    "import branca.colormap as cm\n",
    "import matplotlib.pylab as plt\n",
    "%matplotlib inline"
   ]
  },
  {
   "cell_type": "code",
   "execution_count": 2,
   "metadata": {},
   "outputs": [],
   "source": [
    "# Importing datasets\n",
    "\n",
    "# ————-- Rooftop datasets ————--\n",
    "# https://data.melbourne.vic.gov.au/Environment/Rooftops-with-environmental-retrofitting-opportuni/3927-sgfc\n",
    "rooftop_ext =gpd.read_file(\"./RooftopsShapefiles/mga55_gda94_green_roof_extensive.shp\")\n",
    "rooftop_int =gpd.read_file(\"./RooftopsShapefiles/mga55_gda94_green_roof_intensive.shp\")\n",
    "\n",
    "# ———-—- Energy efficiency datasets —-———-\n",
    "# Modelling datasets for energy consumption based on retrofitting for energy efficiency\n",
    "# https://data.melbourne.vic.gov.au/Environment/Block-level-energy-consumption-modelled-on-buildin/pyua-izk6\n",
    "model_gdf = gpd.read_file(\"./BlockLevel_RetrofitProjection_2026/BlockLevel_RetrofitProjection_2026.shp\")\n",
    "\n",
    "# Baseline dataset\n",
    "# https://data.melbourne.vic.gov.au/Environment/Property-level-energy-consumption-modelled-on-buil/fyes-zqbt\n",
    "# This has the actual energy consumption from 2011, as well as modelling based on no retrofitting\n",
    "baseline_gdf = gpd.read_file(\"./Baseline2011BusinessAsUsualProjections2016to2026/baseline.shp\")"
   ]
  },
  {
   "cell_type": "code",
   "execution_count": null,
   "metadata": {},
   "outputs": [],
   "source": []
  },
  {
   "cell_type": "markdown",
   "metadata": {},
   "source": [
    "<span style='font-size:large'>**Aim to combine the baseline dataset with the rooftop datasets to better compare a properties greenability ratings against their energy use to help identify the properties that would see the most benefits.**</span>\n",
    "\n"
   ]
  },
  {
   "cell_type": "code",
   "execution_count": 3,
   "metadata": {},
   "outputs": [
    {
     "name": "stdout",
     "output_type": "stream",
     "text": [
      "<class 'geopandas.geodataframe.GeoDataFrame'>\n",
      "RangeIndex: 67123 entries, 0 to 67122\n",
      "Data columns (total 5 columns):\n",
      " #   Column      Non-Null Count  Dtype   \n",
      "---  ------      --------------  -----   \n",
      " 0   index       67123 non-null  int64   \n",
      " 1   Shape_Leng  67123 non-null  float64 \n",
      " 2   Shape_Area  67123 non-null  float64 \n",
      " 3   RATING      67123 non-null  object  \n",
      " 4   geometry    67123 non-null  geometry\n",
      "dtypes: float64(2), geometry(1), int64(1), object(1)\n",
      "memory usage: 2.6+ MB\n"
     ]
    }
   ],
   "source": [
    "# Create copy of rooftop exterior dataframe.\n",
    "property_ext = rooftop_ext.reset_index()\n",
    "\n",
    "# View basic info on dataframe.\n",
    "property_ext.info()"
   ]
  },
  {
   "cell_type": "code",
   "execution_count": 4,
   "metadata": {},
   "outputs": [
    {
     "data": {
      "image/png": "[encoded data removed]",
      "text/plain": [
       "<Figure size 720x720 with 1 Axes>"
      ]
     },
     "metadata": {
      "needs_background": "light"
     },
     "output_type": "display_data"
    }
   ],
   "source": [
    "# Map the dataframe, coloured from best to worst greening potential.\n",
    "fig, ax = plt.subplots(1, figsize = (10, 10))\n",
    "property_ext.plot(ax=ax, column=\"RATING\", categorical=True, legend=True, cmap=\"RdYlGn_r\")\n",
    "ax.set_axis_off()"
   ]
  },
  {
   "cell_type": "markdown",
   "metadata": {},
   "source": [
    "<span style='font-size:large'>**UPDATED: Property ID's in the baseline dataset can contain multiple rooftops within them as well as a single rooftop existing in multiple property ID's. This caused issues with the previous approach, so merging will be looked at later, just getting scores for each dataset and mapping currently. **</span>\n",
    "\n"
   ]
  },
  {
   "cell_type": "code",
   "execution_count": 5,
   "metadata": {},
   "outputs": [
    {
     "ename": "NameError",
     "evalue": "name 'baseline' is not defined",
     "output_type": "error",
     "traceback": [
      "\u001b[1;31m---------------------------------------------------------------------------\u001b[0m",
      "\u001b[1;31mNameError\u001b[0m                                 Traceback (most recent call last)",
      "\u001b[1;32m<ipython-input-5-f5167a516b15>\u001b[0m in \u001b[0;36m<module>\u001b[1;34m\u001b[0m\n\u001b[0;32m      2\u001b[0m \u001b[1;33m\u001b[0m\u001b[0m\n\u001b[0;32m      3\u001b[0m \u001b[1;31m# Map the baseline model in black.\u001b[0m\u001b[1;33m\u001b[0m\u001b[1;33m\u001b[0m\u001b[1;33m\u001b[0m\u001b[0m\n\u001b[1;32m----> 4\u001b[1;33m \u001b[0mbaseline\u001b[0m\u001b[1;33m.\u001b[0m\u001b[0mplot\u001b[0m\u001b[1;33m(\u001b[0m\u001b[0max\u001b[0m\u001b[1;33m=\u001b[0m\u001b[0max\u001b[0m\u001b[1;33m,\u001b[0m \u001b[0mcolor\u001b[0m\u001b[1;33m=\u001b[0m\u001b[1;34m'black'\u001b[0m\u001b[1;33m)\u001b[0m\u001b[1;33m\u001b[0m\u001b[1;33m\u001b[0m\u001b[0m\n\u001b[0m\u001b[0;32m      5\u001b[0m \u001b[1;33m\u001b[0m\u001b[0m\n\u001b[0;32m      6\u001b[0m \u001b[1;31m# Map all rooftops in blue.\u001b[0m\u001b[1;33m\u001b[0m\u001b[1;33m\u001b[0m\u001b[1;33m\u001b[0m\u001b[0m\n",
      "\u001b[1;31mNameError\u001b[0m: name 'baseline' is not defined"
     ]
    },
    {
     "data": {
      "image/png": "[encoded data removed]",
      "text/plain": [
       "<Figure size 1152x1152 with 1 Axes>"
      ]
     },
     "metadata": {
      "needs_background": "light"
     },
     "output_type": "display_data"
    }
   ],
   "source": [
    "fig, ax = plt.subplots(1, figsize = (16, 16))\n",
    "\n",
    "# Map the baseline model in black.\n",
    "baseline.plot(ax=ax, color='black')\n",
    "\n",
    "# Map all rooftops in blue.\n",
    "property_ext.plot(ax=ax, color='b')\n",
    "\n",
    "# Set background grey for easier visibility.\n",
    "ax.set_facecolor(\"gainsboro\")"
   ]
  },
  {
   "cell_type": "markdown",
   "metadata": {},
   "source": [
    "**Determine how to formulate and rank properties against one another as the best options. Factors such as**\n",
    "\n",
    "- Total shape area for each rating on the property.\n",
    "  - How much impact does a 'very poor' rating have in conrast to 'excellent'?\n",
    "- Properties modelled energy usage.\n",
    "  - ** Hannah's energy difference work on baseline against model data would be this metric. **\n",
    "\n"
   ]
  },
  {
   "cell_type": "markdown",
   "metadata": {},
   "source": [
    "**NOTE: Scoring values naturally have a massive impact on the results, so determining the the factor by which an 'Excellent' is better than a 'Very Poor' rating is pivotal. Research required, current score values are temporary.**\n"
   ]
  },
  {
   "cell_type": "code",
   "execution_count": null,
   "metadata": {},
   "outputs": [],
   "source": [
    "# ————-- Scoring Values ————--\n",
    "Scoring_System = {'Excellent' : 1.0, 'Good' : 0.8, 'Moderate' : 0.6, 'Poor': 0.4, 'Very Poor' : 0.2}\n",
    "\n",
    "# Create copy of interior rooftop dataframe.\n",
    "property_int = rooftop_int.reset_index()\n",
    "\n",
    "rooftop_dfs = [property_ext, property_int]\n",
    "\n",
    "for df in rooftop_dfs:\n",
    "    # Create external scores as a metric by using available rooftop area multiplied by the suitability rating for it.\n",
    "    df['Score'] = round(df['RATING'].map(Scoring_System) * df['Shape_Area'], 2)\n",
    "    \n",
    "# # Create property or block level (dependant on data merged with) score based on total of individual scores within that location. \n",
    "# property_ext['Property_Ext_Score'] = property_ext.groupby('PropertyID')['Ext_Score'].transform('sum')"
   ]
  },
  {
   "cell_type": "code",
   "execution_count": null,
   "metadata": {},
   "outputs": [],
   "source": [
    "# View the sorted exterior scores.\n",
    "display(property_ext.sort_values(by=['Score'], ascending=False).head())\n",
    "\n",
    "# View the sorted interior scores.\n",
    "display(property_int.sort_values(by=['Score'], ascending=False).head())"
   ]
  },
  {
   "cell_type": "code",
   "execution_count": null,
   "metadata": {},
   "outputs": [],
   "source": [
    "# Visualise the exterior df map based on the new Score\n",
    "fig, ax = plt.subplots(1, figsize = (40, 16))\n",
    "\n",
    "property_ext.plot(ax=ax, column='Score', legend=True)"
   ]
  },
  {
   "cell_type": "code",
   "execution_count": null,
   "metadata": {},
   "outputs": [],
   "source": [
    "# Check entries prior to refinements.\n",
    "display(property_ext.info())"
   ]
  },
  {
   "cell_type": "code",
   "execution_count": null,
   "metadata": {},
   "outputs": [],
   "source": [
    "# # Refinements to reduce the more unsuitable rooftops.\n",
    "# refined_ext = property_ext.drop(property_ext[property_ext['Ext_Score'] < 4000].index)\n",
    "\n",
    "# Remove poor and very poor ratings, sort dataframes by score and keep only the top 100.\n",
    "for df in rooftop_dfs:\n",
    "    df.drop(df[(df['RATING'] == 'Poor') | (df['RATING'] == 'Very Poor')].index, inplace=True)\n",
    "    df.sort_values(by=['Score'], ascending=False, inplace=True)\n",
    "    df.drop(df.index[100:], inplace=True)\n",
    "    display(df.info())\n",
    "\n",
    "property_ext.head()"
   ]
  },
  {
   "cell_type": "code",
   "execution_count": null,
   "metadata": {},
   "outputs": [],
   "source": [
    "# Boxplot highlighting the distribution of values.\n",
    "fig, ax = plt.subplots(1, 2, figsize = (8, 8))\n",
    "boxplot_pre = property_ext.boxplot(ax = ax[0], column = 'Score')\n",
    "boxplot_post = property_int.boxplot(ax = ax[1], column = 'Score')\n",
    "ax[0].set_title(\"Exterior Scores\")\n",
    "ax[1].set_title(\"Interior Scores\")"
   ]
  },
  {
   "cell_type": "code",
   "execution_count": null,
   "metadata": {},
   "outputs": [],
   "source": [
    "# Histogram highlighting the distribution of values.\n",
    "fig, ax = plt.subplots(1, 2, figsize = (8, 8))\n",
    "boxplot_pre = property_ext.hist(ax = ax[0], column = 'Score')\n",
    "boxplot_post = property_int.hist(ax = ax[1], column = 'Score')\n",
    "ax[0].set_title(\"Exterior Scores\")\n",
    "ax[1].set_title(\"Interior Scores\")"
   ]
  },
  {
   "cell_type": "markdown",
   "metadata": {},
   "source": [
    "<span style='font-size:large'>**Update the mapping process to iterate over all rooftop dataframes. Currently only does them individually **</span>"
   ]
  },
  {
   "cell_type": "code",
   "execution_count": null,
   "metadata": {},
   "outputs": [],
   "source": [
    "# Convert for mapping purposes\n",
    "property_ext = property_ext.to_crs(epsg=4326)\n",
    "\n",
    "# Transform geo data into geoJson.\n",
    "geoJ = property_ext[['index', 'geometry', 'Score']].copy()\n",
    "geoJ = geoJ.to_json()\n",
    "\n",
    "scale = [1000, 6000, 11000, 16000, 21000, 26000, 31000, 36000]\n",
    "\n",
    "m = folium.Map(location=[-37.81368709240999, 144.95738102347036], tiles='CartoDB positron', zoom_start=13)\n",
    "\n",
    "# Exterior Mapping\n",
    "ext_fg = folium.FeatureGroup(name='Rooftop Exterior Scores', overlay=True).add_to(m)\n",
    "\n",
    "ext_scores = folium.Choropleth(\n",
    "            geo_data=geoJ,   # Geo Json data\n",
    "            data=property_ext,   # Dataframe\n",
    "            columns=['index', 'Score'],   # Columns to focus on\n",
    "            key_on='feature.properties.index',   # Key to link the GeoJson and Dataframe\n",
    "            fill_color='RdYlGn',\n",
    "            threshold_scale=scale,   # Custom scale from start of cell\n",
    "            line_opacity=0.5,\n",
    "            legend_name='Individual Rooftop Exterior Retrofitting Suitability Score',\n",
    "            highlight=True).geojson.add_to(ext_fg)\n",
    "\n",
    "folium.GeoJsonTooltip(['index', 'Score']).add_to(ext_scores)   # Add hover tooltip containing index & ext score"
   ]
  },
  {
   "cell_type": "markdown",
   "metadata": {},
   "source": [
    "<span style='font-size:large'>**Need to determine how to add seperate legends/scales for each layer **</span>"
   ]
  },
  {
   "cell_type": "code",
   "execution_count": null,
   "metadata": {
    "scrolled": false
   },
   "outputs": [],
   "source": [
    "# Convert for mapping purposes\n",
    "property_int = property_int.to_crs(epsg=4326)\n",
    "\n",
    "# Transform geo data into geoJson.\n",
    "geoJ = property_int[['index', 'geometry', 'Score']].copy()\n",
    "geoJ = geoJ.to_json()\n",
    "\n",
    "# Interior Mapping\n",
    "int_fg = folium.FeatureGroup(name='Rooftop Interior Scores', overlay=True).add_to(m)\n",
    "\n",
    "int_scores = folium.Choropleth(\n",
    "            geo_data=geoJ,   # Geo Json data\n",
    "            data=property_int,   # Dataframe\n",
    "            columns=['index', 'Score'],   # Columns to focus on\n",
    "            key_on='feature.properties.index',   # Key to link the GeoJson and Dataframe\n",
    "            fill_color='RdYlGn',\n",
    "            threshold_scale=scale,   # Custom scale from start of cell\n",
    "            line_opacity=0.5,\n",
    "            legend_name='Individual Rooftop Interior Retrofitting Suitability Score',\n",
    "            highlight=True).geojson.add_to(int_fg)\n",
    "\n",
    "folium.GeoJsonTooltip(['index', 'Score']).add_to(int_scores)   # Add hover tooltip containing index & ext score\n",
    "folium.LayerControl().add_to(m)   # Add the layer control to switch layers\n",
    "m"
   ]
  },
  {
   "cell_type": "markdown",
   "metadata": {},
   "source": [
    "- Add in the remaining 2 rooftop datasets.\n",
    "- Determine if any of it will be usable.\n",
    "- Begin bringing across microclimate sensor dataset: Look into temperature differences, Urban heat island effects? Previous PM10 data could be supportive as well."
   ]
  },
  {
   "cell_type": "code",
   "execution_count": null,
   "metadata": {},
   "outputs": [],
   "source": []
  }
 ],
 "metadata": {
  "kernelspec": {
   "display_name": "Python 3",
   "language": "python",
   "name": "python3"
  },
  "language_info": {
   "codemirror_mode": {
    "name": "ipython",
    "version": 3
   },
   "file_extension": ".py",
   "mimetype": "text/x-python",
   "name": "python",
   "nbconvert_exporter": "python",
   "pygments_lexer": "ipython3",
   "version": "3.8.5"
  }
 },
 "nbformat": 4,
 "nbformat_minor": 4
}
