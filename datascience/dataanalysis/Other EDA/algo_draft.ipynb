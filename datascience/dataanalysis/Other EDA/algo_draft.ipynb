{
 "cells": [
  {
   "cell_type": "code",
   "execution_count": 1,
   "id": "e17402e6",
   "metadata": {},
   "outputs": [],
   "source": [
    "from numpy import array\n",
    "import keras\n",
    "from keras.models import Sequential\n",
    "from keras.layers import LSTM\n",
    "from keras.layers import Dense\n",
    "from keras.layers import Bidirectional\n",
    "import pandas as pd\n",
    "from sodapy import Socrata"
   ]
  },
  {
   "cell_type": "code",
   "execution_count": 3,
   "id": "fa0698cc",
   "metadata": {},
   "outputs": [],
   "source": [
    "# # Uncomment the below to open data source, download sensor data, and store it as a csv locally.\n",
    "\n",
    "# #Function to get Sensor count history data\n",
    "# def sensor_count():\n",
    "#     client = Socrata('data.melbourne.vic.gov.au', 'nlPM0PQJSjzCsbVqntjPvjB1f', None)\n",
    "#     sensor_data_id = \"b2ak-trbp\"\n",
    "#     results = client.get(sensor_data_id, limit=5000000)\n",
    "#     df = pd.DataFrame.from_records(results)\n",
    "#     df = df[['date_time', 'year', 'month', 'mdate', 'day', 'time', 'sensor_id', 'sensor_name', 'hourly_counts']]\n",
    "#     return df\n",
    "\n",
    "# sensor_history = sensor_count()\n",
    "\n",
    "# sensor_history.to_csv('sensor_history.csv', index=False)"
   ]
  },
  {
   "cell_type": "code",
   "execution_count": 2,
   "id": "de2ec307",
   "metadata": {},
   "outputs": [],
   "source": [
    "sensor_history = pd.read_csv('sensor_history.csv')"
   ]
  },
  {
   "cell_type": "code",
   "execution_count": 3,
   "id": "bc533f45",
   "metadata": {},
   "outputs": [],
   "source": [
    "single_sensor = sensor_history[sensor_history.sensor_id == 4]"
   ]
  },
  {
   "cell_type": "code",
   "execution_count": 4,
   "id": "b191deef",
   "metadata": {},
   "outputs": [
    {
     "data": {
      "text/html": [
       "<div>\n",
       "<style scoped>\n",
       "    .dataframe tbody tr th:only-of-type {\n",
       "        vertical-align: middle;\n",
       "    }\n",
       "\n",
       "    .dataframe tbody tr th {\n",
       "        vertical-align: top;\n",
       "    }\n",
       "\n",
       "    .dataframe thead th {\n",
       "        text-align: right;\n",
       "    }\n",
       "</style>\n",
       "<table border=\"1\" class=\"dataframe\">\n",
       "  <thead>\n",
       "    <tr style=\"text-align: right;\">\n",
       "      <th></th>\n",
       "      <th>date_time</th>\n",
       "      <th>year</th>\n",
       "      <th>month</th>\n",
       "      <th>mdate</th>\n",
       "      <th>day</th>\n",
       "      <th>time</th>\n",
       "      <th>sensor_id</th>\n",
       "      <th>sensor_name</th>\n",
       "      <th>hourly_counts</th>\n",
       "    </tr>\n",
       "  </thead>\n",
       "  <tbody>\n",
       "    <tr>\n",
       "      <th>26</th>\n",
       "      <td>2019-11-01T18:00:00.000</td>\n",
       "      <td>2019</td>\n",
       "      <td>November</td>\n",
       "      <td>1</td>\n",
       "      <td>Friday</td>\n",
       "      <td>18</td>\n",
       "      <td>4</td>\n",
       "      <td>Town Hall (West)</td>\n",
       "      <td>2950</td>\n",
       "    </tr>\n",
       "    <tr>\n",
       "      <th>81</th>\n",
       "      <td>2019-11-01T19:00:00.000</td>\n",
       "      <td>2019</td>\n",
       "      <td>November</td>\n",
       "      <td>1</td>\n",
       "      <td>Friday</td>\n",
       "      <td>19</td>\n",
       "      <td>4</td>\n",
       "      <td>Town Hall (West)</td>\n",
       "      <td>2345</td>\n",
       "    </tr>\n",
       "    <tr>\n",
       "      <th>137</th>\n",
       "      <td>2019-11-01T20:00:00.000</td>\n",
       "      <td>2019</td>\n",
       "      <td>November</td>\n",
       "      <td>1</td>\n",
       "      <td>Friday</td>\n",
       "      <td>20</td>\n",
       "      <td>4</td>\n",
       "      <td>Town Hall (West)</td>\n",
       "      <td>2051</td>\n",
       "    </tr>\n",
       "    <tr>\n",
       "      <th>193</th>\n",
       "      <td>2019-11-01T21:00:00.000</td>\n",
       "      <td>2019</td>\n",
       "      <td>November</td>\n",
       "      <td>1</td>\n",
       "      <td>Friday</td>\n",
       "      <td>21</td>\n",
       "      <td>4</td>\n",
       "      <td>Town Hall (West)</td>\n",
       "      <td>1715</td>\n",
       "    </tr>\n",
       "    <tr>\n",
       "      <th>248</th>\n",
       "      <td>2019-11-01T22:00:00.000</td>\n",
       "      <td>2019</td>\n",
       "      <td>November</td>\n",
       "      <td>1</td>\n",
       "      <td>Friday</td>\n",
       "      <td>22</td>\n",
       "      <td>4</td>\n",
       "      <td>Town Hall (West)</td>\n",
       "      <td>1438</td>\n",
       "    </tr>\n",
       "    <tr>\n",
       "      <th>...</th>\n",
       "      <td>...</td>\n",
       "      <td>...</td>\n",
       "      <td>...</td>\n",
       "      <td>...</td>\n",
       "      <td>...</td>\n",
       "      <td>...</td>\n",
       "      <td>...</td>\n",
       "      <td>...</td>\n",
       "      <td>...</td>\n",
       "    </tr>\n",
       "    <tr>\n",
       "      <th>4231010</th>\n",
       "      <td>2022-04-30T19:00:00.000</td>\n",
       "      <td>2022</td>\n",
       "      <td>April</td>\n",
       "      <td>30</td>\n",
       "      <td>Saturday</td>\n",
       "      <td>19</td>\n",
       "      <td>4</td>\n",
       "      <td>Town Hall (West)</td>\n",
       "      <td>1641</td>\n",
       "    </tr>\n",
       "    <tr>\n",
       "      <th>4231011</th>\n",
       "      <td>2022-04-30T20:00:00.000</td>\n",
       "      <td>2022</td>\n",
       "      <td>April</td>\n",
       "      <td>30</td>\n",
       "      <td>Saturday</td>\n",
       "      <td>20</td>\n",
       "      <td>4</td>\n",
       "      <td>Town Hall (West)</td>\n",
       "      <td>1239</td>\n",
       "    </tr>\n",
       "    <tr>\n",
       "      <th>4231012</th>\n",
       "      <td>2022-04-30T21:00:00.000</td>\n",
       "      <td>2022</td>\n",
       "      <td>April</td>\n",
       "      <td>30</td>\n",
       "      <td>Saturday</td>\n",
       "      <td>21</td>\n",
       "      <td>4</td>\n",
       "      <td>Town Hall (West)</td>\n",
       "      <td>1083</td>\n",
       "    </tr>\n",
       "    <tr>\n",
       "      <th>4231013</th>\n",
       "      <td>2022-04-30T22:00:00.000</td>\n",
       "      <td>2022</td>\n",
       "      <td>April</td>\n",
       "      <td>30</td>\n",
       "      <td>Saturday</td>\n",
       "      <td>22</td>\n",
       "      <td>4</td>\n",
       "      <td>Town Hall (West)</td>\n",
       "      <td>883</td>\n",
       "    </tr>\n",
       "    <tr>\n",
       "      <th>4231014</th>\n",
       "      <td>2022-04-30T23:00:00.000</td>\n",
       "      <td>2022</td>\n",
       "      <td>April</td>\n",
       "      <td>30</td>\n",
       "      <td>Saturday</td>\n",
       "      <td>23</td>\n",
       "      <td>4</td>\n",
       "      <td>Town Hall (West)</td>\n",
       "      <td>770</td>\n",
       "    </tr>\n",
       "  </tbody>\n",
       "</table>\n",
       "<p>107780 rows × 9 columns</p>\n",
       "</div>"
      ],
      "text/plain": [
       "                       date_time  year     month  mdate       day  time  \\\n",
       "26       2019-11-01T18:00:00.000  2019  November      1    Friday    18   \n",
       "81       2019-11-01T19:00:00.000  2019  November      1    Friday    19   \n",
       "137      2019-11-01T20:00:00.000  2019  November      1    Friday    20   \n",
       "193      2019-11-01T21:00:00.000  2019  November      1    Friday    21   \n",
       "248      2019-11-01T22:00:00.000  2019  November      1    Friday    22   \n",
       "...                          ...   ...       ...    ...       ...   ...   \n",
       "4231010  2022-04-30T19:00:00.000  2022     April     30  Saturday    19   \n",
       "4231011  2022-04-30T20:00:00.000  2022     April     30  Saturday    20   \n",
       "4231012  2022-04-30T21:00:00.000  2022     April     30  Saturday    21   \n",
       "4231013  2022-04-30T22:00:00.000  2022     April     30  Saturday    22   \n",
       "4231014  2022-04-30T23:00:00.000  2022     April     30  Saturday    23   \n",
       "\n",
       "         sensor_id       sensor_name  hourly_counts  \n",
       "26               4  Town Hall (West)           2950  \n",
       "81               4  Town Hall (West)           2345  \n",
       "137              4  Town Hall (West)           2051  \n",
       "193              4  Town Hall (West)           1715  \n",
       "248              4  Town Hall (West)           1438  \n",
       "...            ...               ...            ...  \n",
       "4231010          4  Town Hall (West)           1641  \n",
       "4231011          4  Town Hall (West)           1239  \n",
       "4231012          4  Town Hall (West)           1083  \n",
       "4231013          4  Town Hall (West)            883  \n",
       "4231014          4  Town Hall (West)            770  \n",
       "\n",
       "[107780 rows x 9 columns]"
      ]
     },
     "execution_count": 4,
     "metadata": {},
     "output_type": "execute_result"
    }
   ],
   "source": [
    "single_sensor"
   ]
  },
  {
   "cell_type": "code",
   "execution_count": 5,
   "id": "0226a0bb",
   "metadata": {},
   "outputs": [],
   "source": [
    "sensor_seq = []\n",
    "for i in range(0, len(single_sensor)):\n",
    "    sensor_seq.append(single_sensor.hourly_counts.iloc[i])"
   ]
  },
  {
   "cell_type": "code",
   "execution_count": 6,
   "id": "3e8a16e6",
   "metadata": {},
   "outputs": [],
   "source": [
    "# split a univariate sequence\n",
    "def split_sequence(sequence, n_steps):\n",
    "    X, y = list(), list()\n",
    "    for i in range(len(sequence)):\n",
    "        # find the end of this pattern\n",
    "        end_ix = i + n_steps\n",
    "        # check if we are beyond the sequence\n",
    "        if end_ix > len(sequence)-1:\n",
    "            break\n",
    "        # gather input and output parts of the pattern\n",
    "        seq_x, seq_y = sequence[i:end_ix], sequence[end_ix]\n",
    "        X.append(seq_x)\n",
    "        y.append(seq_y)\n",
    "    return array(X), array(y)\n",
    "\n",
    "# choose a number of time steps\n",
    "n_steps = 24\n",
    "# split into samples\n",
    "X, y = split_sequence(sensor_seq, n_steps)\n"
   ]
  },
  {
   "cell_type": "code",
   "execution_count": 7,
   "id": "37f71f64",
   "metadata": {},
   "outputs": [],
   "source": [
    "# reshape from [samples, timesteps] into [samples, timesteps, features]\n",
    "n_features = 1\n",
    "X = X.reshape((X.shape[0], X.shape[1], n_features))\n"
   ]
  },
  {
   "cell_type": "code",
   "execution_count": 8,
   "id": "49d65fee",
   "metadata": {},
   "outputs": [
    {
     "name": "stdout",
     "output_type": "stream",
     "text": [
      "WARNING:tensorflow:Layer lstm will not use cuDNN kernels since it doesn't meet the criteria. It will use a generic GPU kernel as fallback when running on GPU.\n",
      "WARNING:tensorflow:Layer lstm_1 will not use cuDNN kernels since it doesn't meet the criteria. It will use a generic GPU kernel as fallback when running on GPU.\n"
     ]
    }
   ],
   "source": [
    "epochs = 50\n",
    "learning_rate = 0.005\n",
    "\n",
    "# define model\n",
    "model = Sequential()\n",
    "model.add(LSTM(50, activation='relu', return_sequences = True, input_shape=(n_steps, n_features)))\n",
    "model.add(LSTM(50, activation='relu'))\n",
    "model.add(Dense(1))\n",
    "\n",
    "opt = keras.optimizers.Adam(learning_rate=learning_rate)\n",
    "\n",
    "model.compile(optimizer=opt, loss='mse', metrics = ['accuracy'])\n"
   ]
  },
  {
   "cell_type": "code",
   "execution_count": 9,
   "id": "57cc2929",
   "metadata": {},
   "outputs": [
    {
     "data": {
      "text/plain": [
       "<keras.engine.sequential.Sequential at 0x2608007e220>"
      ]
     },
     "execution_count": 9,
     "metadata": {},
     "output_type": "execute_result"
    }
   ],
   "source": [
    "model"
   ]
  },
  {
   "cell_type": "code",
   "execution_count": 25,
   "id": "8008907c",
   "metadata": {},
   "outputs": [
    {
     "name": "stdout",
     "output_type": "stream",
     "text": [
      "Epoch 1/20\n",
      "3368/3368 [==============================] - 403s 119ms/step - loss: 695851.8750 - accuracy: 3.5265e-04\n",
      "Epoch 2/20\n",
      "3368/3368 [==============================] - 401s 119ms/step - loss: 292999.1562 - accuracy: 3.8977e-04\n",
      "Epoch 3/20\n",
      "3368/3368 [==============================] - 404s 120ms/step - loss: 108692.0781 - accuracy: 3.8049e-04\n",
      "Epoch 4/20\n",
      "3368/3368 [==============================] - 410s 122ms/step - loss: 77598712.0000 - accuracy: 3.0625e-04\n",
      "Epoch 5/20\n",
      "3368/3368 [==============================] - 442s 131ms/step - loss: 818087.5000 - accuracy: 3.8977e-04\n",
      "Epoch 6/20\n",
      "3368/3368 [==============================] - 410s 122ms/step - loss: 207258.2812 - accuracy: 3.8977e-04\n",
      "Epoch 7/20\n",
      "3368/3368 [==============================] - 399s 118ms/step - loss: 206892.8281 - accuracy: 3.8977e-04\n",
      "Epoch 8/20\n",
      "3368/3368 [==============================] - 407s 121ms/step - loss: 154047.1250 - accuracy: 3.8977e-04\n",
      "Epoch 9/20\n",
      "3368/3368 [==============================] - 405s 120ms/step - loss: 1042296.5000 - accuracy: 3.8977e-04\n",
      "Epoch 10/20\n",
      "3368/3368 [==============================] - 406s 121ms/step - loss: 276474.0312 - accuracy: 3.8977e-04\n",
      "Epoch 11/20\n",
      "3368/3368 [==============================] - 409s 122ms/step - loss: 264201.1562 - accuracy: 3.8977e-04\n",
      "Epoch 12/20\n",
      "3368/3368 [==============================] - 398s 118ms/step - loss: 149820624.0000 - accuracy: 3.3409e-04\n",
      "Epoch 13/20\n",
      "3368/3368 [==============================] - 397s 118ms/step - loss: 366315.1250 - accuracy: 3.2481e-04\n",
      "Epoch 14/20\n",
      "3368/3368 [==============================] - 416s 124ms/step - loss: 356384.6562 - accuracy: 3.9905e-04\n",
      "Epoch 15/20\n",
      "3368/3368 [==============================] - 556s 165ms/step - loss: 698375.0625 - accuracy: 3.6193e-04\n",
      "Epoch 16/20\n",
      "3368/3368 [==============================] - 643s 191ms/step - loss: 4045882.0000 - accuracy: 3.3409e-04\n",
      "Epoch 17/20\n",
      "3368/3368 [==============================] - 1204s 358ms/step - loss: 241118.5156 - accuracy: 3.7121e-04\n",
      "Epoch 18/20\n",
      "3368/3368 [==============================] - 396s 118ms/step - loss: 139833.5469 - accuracy: 3.9905e-04\n",
      "Epoch 19/20\n",
      "3368/3368 [==============================] - 390s 116ms/step - loss: 78401.6484 - accuracy: 3.8049e-04\n",
      "Epoch 20/20\n",
      "3368/3368 [==============================] - 395s 117ms/step - loss: 670665.6250 - accuracy: 3.8977e-04\n"
     ]
    },
    {
     "data": {
      "text/plain": [
       "<keras.callbacks.History at 0x21916a51d00>"
      ]
     },
     "execution_count": 25,
     "metadata": {},
     "output_type": "execute_result"
    }
   ],
   "source": [
    "# fit model\n",
    "model.fit(X, y, epochs=20, verbose=1)\n"
   ]
  },
  {
   "cell_type": "code",
   "execution_count": 10,
   "id": "612be277",
   "metadata": {},
   "outputs": [
    {
     "name": "stdout",
     "output_type": "stream",
     "text": [
      "predicted next value:  761\n",
      "actual next value:  375\n"
     ]
    }
   ],
   "source": [
    "# demonstrate prediction\n",
    "x_input = array(sensor_seq[1:8])\n",
    "x_input = x_input.reshape((1, n_steps, n_features))\n",
    "yhat = model.predict(x_input, verbose=0)\n",
    "print(\"predicted next value: \", int(yhat))\n",
    "print(\"actual next value: \", sensor_seq[8])"
   ]
  },
  {
   "cell_type": "code",
   "execution_count": 11,
   "id": "d11a2b8a",
   "metadata": {},
   "outputs": [
    {
     "name": "stdout",
     "output_type": "stream",
     "text": [
      "predicted next value:  1423\n",
      "actual next value:  1379\n"
     ]
    }
   ],
   "source": [
    "# demonstrate prediction\n",
    "x_input = array(sensor_seq[21:28])\n",
    "x_input = x_input.reshape((1, n_steps, n_features))\n",
    "yhat = model.predict(x_input, verbose=0)\n",
    "print(\"predicted next value: \", int(yhat))\n",
    "print(\"actual next value: \", sensor_seq[28])"
   ]
  }
 ],
 "metadata": {
  "kernelspec": {
   "display_name": "Python 3.10.4 ('mop')",
   "language": "python",
   "name": "python3"
  },
  "language_info": {
   "codemirror_mode": {
    "name": "ipython",
    "version": 3
   },
   "file_extension": ".py",
   "mimetype": "text/x-python",
   "name": "python",
   "nbconvert_exporter": "python",
   "pygments_lexer": "ipython3",
   "version": "3.8.13"
  },
  "vscode": {
   "interpreter": {
    "hash": "439fc07a0bb2a75d465a9aad0fdb5eeeed37f74336d4475b51bfd060c9a743e5"
   }
  }
 },
 "nbformat": 4,
 "nbformat_minor": 5
}
