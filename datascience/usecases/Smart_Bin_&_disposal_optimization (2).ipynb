{
 "cells": [
  {
   "cell_type": "markdown",
   "id": "9fb9c182",
   "metadata": {
    "id": "9fb9c182"
   },
   "source": [
    "# SMART CITY USE CASE"
   ]
  },
  {
   "cell_type": "markdown",
   "id": "5bd3881f",
   "metadata": {
    "id": "5bd3881f"
   },
   "source": [
    "Author: Abosede Alli"
   ]
  },
  {
   "cell_type": "markdown",
   "id": "f845471b",
   "metadata": {
    "id": "f845471b"
   },
   "source": [
    "Level: Intermediate  Pre-requisite Skills:  Python, Data engineering and analysis\n"
   ]
  },
  {
   "cell_type": "markdown",
   "id": "aecadafd",
   "metadata": {
    "id": "aecadafd"
   },
   "source": [
    "# User Story"
   ]
  },
  {
   "cell_type": "markdown",
   "id": "e319928b",
   "metadata": {
    "id": "e319928b"
   },
   "source": [
    "1.As a council, we want an easy waste disposal management especially to reduce recurring need of street sweepings, overflowing bins, sighting of rubbish littering on our major roads and streets via a more improved way towards a liveable city of melbourne. "
   ]
  },
  {
   "cell_type": "markdown",
   "id": "5f559df7",
   "metadata": {
    "id": "5f559df7"
   },
   "source": [
    "From the perspective of the strategic planning and Climatic change leadership, we need to understand the dynamics of each environment and suburbs that are prone to ecosytem change. \n",
    "\n",
    "Can there be adverse changes  due to ineffective waste and recycling processes?\n",
    "\n",
    "What impacts does frequency of bin collection and current infrastructure has in achieving a clean environment? \n",
    "\n",
    "What associated challenges does bin overflowing cause and if that include significant revenue loss?\n",
    "\n",
    "Where are the rubbish coming from?\n",
    "\n",
    "What are the causes of road and street littering? \n",
    "\n",
    "Are there impacts towards a better melbourne? \n",
    "\n",
    "\n"
   ]
  },
  {
   "cell_type": "markdown",
   "id": "d7672acf",
   "metadata": {
    "id": "d7672acf"
   },
   "source": [
    "User Story 2\n",
    "\n",
    "\n",
    "As a pedestrian working and living along parliament and flinders street, I want to easily dispose my waste along the street as I usually have a pain of carrying waste bag across to dispose. Are there bins located close to major walkways?. "
   ]
  },
  {
   "cell_type": "markdown",
   "id": "33e74005",
   "metadata": {
    "id": "33e74005"
   },
   "source": [
    "From the perspective of a public bin user, overflowing bins discourages practising a good waste disposal habit. \n",
    "\n",
    "Can there be am improvement in the current number of bins available for the public?\n",
    "\n"
   ]
  },
  {
   "cell_type": "markdown",
   "id": "33c8fef5",
   "metadata": {
    "id": "33c8fef5"
   },
   "source": [
    "With sample data and details on the currently available waste mangemenet processes, a possible deductions can be arrived at thus provide certain considerations which can be made by examining the following questions:\n",
    "\n",
    "\n",
    "1  Are there reasons for incessant street littering and could this be due to routine of collection? Where specifically are these pertinent?\n",
    "\n",
    "2  What does overflowing bins infer?\n",
    "\n",
    "\n",
    "# **Goals for Exploratory data analysis:**\n",
    "1.  Analyse, compare and provide information which could be vital for suggestions to implement a better waste managing platform.\n",
    "\n",
    "2.  Analyse the frequency, and characteristics of waste involved in tonnes within the identified geographical location over a period of time.\n",
    "\n",
    "3.  Predict the future experience if no improvement is made and suggest towards a sustainable and smart city. "
   ]
  },
  {
   "cell_type": "markdown",
   "id": "b5440ee8",
   "metadata": {
    "id": "b5440ee8"
   },
   "source": [
    "# Objectives for the Exploratory Data Analysis\n",
    "Smart bins provide data for councils, individuals and businesses towards efficiencies as well as a benefit on public health. No smart city without a smart bin.Many public utilities have sensors thus enabling connective capability as well as provide details on infrastructural usage.Smart bins unlike traditional waste bins reduced council clean-up costs and actually less usage on power cost. With respect to fill level are quite better as bins are able to hold up to three to five times the capacity of a standard 120-litre bins, the availability of sensors in the bin provide data accesible through a dashboard, via mobile apps that notifies collecting office.\n",
    "\n",
    "Other benefits is less power usage, affords health benefits and council clean-up costs reduction.\n",
    "\n"
   ]
  },
  {
   "cell_type": "markdown",
   "id": "1d554f75",
   "metadata": {
    "id": "1d554f75"
   },
   "source": [
    "# Benefits for City of Melbourne"
   ]
  },
  {
   "cell_type": "markdown",
   "id": "c8524dd9",
   "metadata": {
    "id": "c8524dd9"
   },
   "source": [
    "The use case and exploratory data analysis provides a pathway to support the City of Melbourne in the following ways:\n",
    "\n",
    "1 Support for the ‘Resource efficiency Usage’ which is a Priority 1.5 in Goal 1 of the vision of the city of Melbourne towards its journey in achieveing 'Future Melbourne 2026 Plan'.\n",
    "\n",
    "2 Faciliate a sustainable environment which promote a garbage free roads, corridors and streets responsible for pollution and ecosystem management.\n",
    "\n",
    "3 Support further discovery into the city of Melbourne becomining a leader in smart city innovation. "
   ]
  },
  {
   "cell_type": "markdown",
   "id": "a0528d61",
   "metadata": {
    "id": "a0528d61"
   },
   "source": [
    "#             Background on Waste Bin management in Victoria"
   ]
  },
  {
   "cell_type": "markdown",
   "id": "8a72a64c",
   "metadata": {
    "id": "8a72a64c"
   },
   "source": [
    "Over the years, one of major vision of the city of Melbourne is to become a unique city, driven by innovative way of solving major problems in a more simplied way to accommodate changing needs, improve livability and maintain a leadership in sustainability.Maintaining a pool of dataset is critical to continious improvement towards a smart city goal and this is only achievable with an innovation step in our waste management awareness and processes. Currently, a number of bins are strategically located in Swanston, Bourke and Southbank streets  however pedestrians attitude of dumping litters around the streets and wrong bin usage continues to cause high cost of maintenance and other losses.  \n",
    "\n",
    "According to the taxonomy for IoT waste manegement report by the International Journal of Creative Research Thoughts, effective IoT waste management system is acheivable in platforn with ultrasonic sensors. In other words, infrastructure (the bins, pipes), IoT technology (sensors, GPS/GPRS/Camera and actuators) and Programming software for routing,  scheduling and overall architecture of the system are required. The intelligent system ensures wet waste are seperated from dry waste, plastics are also identified as well provide a real time system. The analysis gives an advantage of sensors in that with GPS, smartbins are located, and google map gives where dustbins are placed.\n"
   ]
  },
  {
   "cell_type": "markdown",
   "id": "755966f1",
   "metadata": {
    "id": "755966f1"
   },
   "source": [
    "#  Exploratory Data Analysis Worflow Steps\n",
    "\n",
    "Document the data considerations and risk assessments\n",
    "\n",
    "Prepare the relevant datasets available via the city of melbourne open dataset and document the unidue token.\n",
    "\n",
    "Access and read-in the datasets via the SOCRATA API\n",
    "\n",
    "Explore the datasets as both a .csv and a geoJSON file. A geoJson makes possible data representation in geometry types such as Point, LineString, Polygon, MultiPoint, MultiLineString, and MultiPolygon.\n",
    "For Mapping in terms of location, select variables for both the longitude and a variable for latitude, both should be floats/decimal data types and should not be integers. \n",
    "\n",
    "Read in the available dataset and give a visual representation. "
   ]
  },
  {
   "cell_type": "code",
   "execution_count": 1,
   "id": "15d06d0c",
   "metadata": {
    "id": "15d06d0c"
   },
   "outputs": [],
   "source": [
    "#  Setting Up for Analysis"
   ]
  },
  {
   "cell_type": "code",
   "execution_count": 2,
   "id": "94aa9a2e",
   "metadata": {
    "id": "94aa9a2e"
   },
   "outputs": [],
   "source": [
    "import os"
   ]
  },
  {
   "cell_type": "code",
   "execution_count": 3,
   "id": "dERohZRBGtxf",
   "metadata": {
    "id": "dERohZRBGtxf"
   },
   "outputs": [],
   "source": [
    "import time"
   ]
  },
  {
   "cell_type": "code",
   "execution_count": 4,
   "id": "epEN3ApPGw9A",
   "metadata": {
    "id": "epEN3ApPGw9A"
   },
   "outputs": [],
   "source": [
    "from datetime import datetime"
   ]
  },
  {
   "cell_type": "code",
   "execution_count": 5,
   "id": "ygOWCSUwG0GP",
   "metadata": {
    "id": "ygOWCSUwG0GP"
   },
   "outputs": [],
   "source": [
    "import numpy as np\n",
    "import pandas as pd\n",
    "from sodapy import Socrata\n",
    "import plotly.graph_objs as go\n",
    "import plotly.express as px"
   ]
  },
  {
   "cell_type": "code",
   "execution_count": 6,
   "id": "TS8fQhvvG6xG",
   "metadata": {
    "colab": {
     "base_uri": "https://localhost:8080/"
    },
    "id": "TS8fQhvvG6xG",
    "outputId": "479cdff1-6ad9-4e95-ad17-e70ddaedabfe"
   },
   "outputs": [
    {
     "name": "stdout",
     "output_type": "stream",
     "text": [
      "Requirement already satisfied: sodapy in d:\\anaconda3\\lib\\site-packages (2.2.0)\n",
      "Requirement already satisfied: requests>=2.28.1 in d:\\anaconda3\\lib\\site-packages (from sodapy) (2.28.1)\n",
      "Requirement already satisfied: charset-normalizer<3,>=2 in d:\\anaconda3\\lib\\site-packages (from requests>=2.28.1->sodapy) (2.0.4)\n",
      "Requirement already satisfied: certifi>=2017.4.17 in d:\\anaconda3\\lib\\site-packages (from requests>=2.28.1->sodapy) (2022.9.24)\n",
      "Requirement already satisfied: idna<4,>=2.5 in d:\\anaconda3\\lib\\site-packages (from requests>=2.28.1->sodapy) (3.4)\n",
      "Requirement already satisfied: urllib3<1.27,>=1.21.1 in d:\\anaconda3\\lib\\site-packages (from requests>=2.28.1->sodapy) (1.26.12)\n"
     ]
    }
   ],
   "source": [
    "!pip install sodapy"
   ]
  },
  {
   "cell_type": "markdown",
   "id": "G1ooU2L2WY1r",
   "metadata": {
    "id": "G1ooU2L2WY1r"
   },
   "source": [
    "Apptoken = os.environ.get(\"SODAPY_APPTOKEN\") # Anonymous app token\n",
    "domain = \"data.melbourne.vic.gov.au\"\n",
    "client = Socrata(domain, apptoken) # Open Dataset connection\n",
    "WARNING:root:Requests made without an app_token will be subject to strict throttling limits."
   ]
  },
  {
   "cell_type": "markdown",
   "id": "_gnLDdN4WniJ",
   "metadata": {
    "id": "_gnLDdN4WniJ"
   },
   "source": [
    "WARNING:root:Requests made without an app_token will be subject to strict throttling limits."
   ]
  },
  {
   "cell_type": "code",
   "execution_count": 7,
   "id": "doQdsNxKSINm",
   "metadata": {
    "colab": {
     "base_uri": "https://localhost:8080/",
     "height": 357
    },
    "id": "doQdsNxKSINm",
    "outputId": "05943947-9ab6-4b06-92f9-293df125e7e6"
   },
   "outputs": [
    {
     "ename": "FileNotFoundError",
     "evalue": "[Errno 2] No such file or directory: 'Waste_collected_per_month (2).csv'",
     "output_type": "error",
     "traceback": [
      "\u001b[1;31m---------------------------------------------------------------------------\u001b[0m",
      "\u001b[1;31mFileNotFoundError\u001b[0m                         Traceback (most recent call last)",
      "Cell \u001b[1;32mIn [7], line 1\u001b[0m\n\u001b[1;32m----> 1\u001b[0m df\u001b[38;5;241m=\u001b[39m\u001b[43mpd\u001b[49m\u001b[38;5;241;43m.\u001b[39;49m\u001b[43mread_csv\u001b[49m\u001b[43m(\u001b[49m\u001b[38;5;124;43m'\u001b[39;49m\u001b[38;5;124;43mWaste_collected_per_month (2).csv\u001b[39;49m\u001b[38;5;124;43m'\u001b[39;49m\u001b[43m)\u001b[49m \n\u001b[0;32m      2\u001b[0m df\u001b[38;5;241m.\u001b[39mhead()\n",
      "File \u001b[1;32mD:\\anaconda3\\lib\\site-packages\\pandas\\util\\_decorators.py:211\u001b[0m, in \u001b[0;36mdeprecate_kwarg.<locals>._deprecate_kwarg.<locals>.wrapper\u001b[1;34m(*args, **kwargs)\u001b[0m\n\u001b[0;32m    209\u001b[0m     \u001b[38;5;28;01melse\u001b[39;00m:\n\u001b[0;32m    210\u001b[0m         kwargs[new_arg_name] \u001b[38;5;241m=\u001b[39m new_arg_value\n\u001b[1;32m--> 211\u001b[0m \u001b[38;5;28;01mreturn\u001b[39;00m \u001b[43mfunc\u001b[49m\u001b[43m(\u001b[49m\u001b[38;5;241;43m*\u001b[39;49m\u001b[43margs\u001b[49m\u001b[43m,\u001b[49m\u001b[43m \u001b[49m\u001b[38;5;241;43m*\u001b[39;49m\u001b[38;5;241;43m*\u001b[39;49m\u001b[43mkwargs\u001b[49m\u001b[43m)\u001b[49m\n",
      "File \u001b[1;32mD:\\anaconda3\\lib\\site-packages\\pandas\\util\\_decorators.py:331\u001b[0m, in \u001b[0;36mdeprecate_nonkeyword_arguments.<locals>.decorate.<locals>.wrapper\u001b[1;34m(*args, **kwargs)\u001b[0m\n\u001b[0;32m    325\u001b[0m \u001b[38;5;28;01mif\u001b[39;00m \u001b[38;5;28mlen\u001b[39m(args) \u001b[38;5;241m>\u001b[39m num_allow_args:\n\u001b[0;32m    326\u001b[0m     warnings\u001b[38;5;241m.\u001b[39mwarn(\n\u001b[0;32m    327\u001b[0m         msg\u001b[38;5;241m.\u001b[39mformat(arguments\u001b[38;5;241m=\u001b[39m_format_argument_list(allow_args)),\n\u001b[0;32m    328\u001b[0m         \u001b[38;5;167;01mFutureWarning\u001b[39;00m,\n\u001b[0;32m    329\u001b[0m         stacklevel\u001b[38;5;241m=\u001b[39mfind_stack_level(),\n\u001b[0;32m    330\u001b[0m     )\n\u001b[1;32m--> 331\u001b[0m \u001b[38;5;28;01mreturn\u001b[39;00m \u001b[43mfunc\u001b[49m\u001b[43m(\u001b[49m\u001b[38;5;241;43m*\u001b[39;49m\u001b[43margs\u001b[49m\u001b[43m,\u001b[49m\u001b[43m \u001b[49m\u001b[38;5;241;43m*\u001b[39;49m\u001b[38;5;241;43m*\u001b[39;49m\u001b[43mkwargs\u001b[49m\u001b[43m)\u001b[49m\n",
      "File \u001b[1;32mD:\\anaconda3\\lib\\site-packages\\pandas\\io\\parsers\\readers.py:950\u001b[0m, in \u001b[0;36mread_csv\u001b[1;34m(filepath_or_buffer, sep, delimiter, header, names, index_col, usecols, squeeze, prefix, mangle_dupe_cols, dtype, engine, converters, true_values, false_values, skipinitialspace, skiprows, skipfooter, nrows, na_values, keep_default_na, na_filter, verbose, skip_blank_lines, parse_dates, infer_datetime_format, keep_date_col, date_parser, dayfirst, cache_dates, iterator, chunksize, compression, thousands, decimal, lineterminator, quotechar, quoting, doublequote, escapechar, comment, encoding, encoding_errors, dialect, error_bad_lines, warn_bad_lines, on_bad_lines, delim_whitespace, low_memory, memory_map, float_precision, storage_options)\u001b[0m\n\u001b[0;32m    935\u001b[0m kwds_defaults \u001b[38;5;241m=\u001b[39m _refine_defaults_read(\n\u001b[0;32m    936\u001b[0m     dialect,\n\u001b[0;32m    937\u001b[0m     delimiter,\n\u001b[1;32m   (...)\u001b[0m\n\u001b[0;32m    946\u001b[0m     defaults\u001b[38;5;241m=\u001b[39m{\u001b[38;5;124m\"\u001b[39m\u001b[38;5;124mdelimiter\u001b[39m\u001b[38;5;124m\"\u001b[39m: \u001b[38;5;124m\"\u001b[39m\u001b[38;5;124m,\u001b[39m\u001b[38;5;124m\"\u001b[39m},\n\u001b[0;32m    947\u001b[0m )\n\u001b[0;32m    948\u001b[0m kwds\u001b[38;5;241m.\u001b[39mupdate(kwds_defaults)\n\u001b[1;32m--> 950\u001b[0m \u001b[38;5;28;01mreturn\u001b[39;00m \u001b[43m_read\u001b[49m\u001b[43m(\u001b[49m\u001b[43mfilepath_or_buffer\u001b[49m\u001b[43m,\u001b[49m\u001b[43m \u001b[49m\u001b[43mkwds\u001b[49m\u001b[43m)\u001b[49m\n",
      "File \u001b[1;32mD:\\anaconda3\\lib\\site-packages\\pandas\\io\\parsers\\readers.py:605\u001b[0m, in \u001b[0;36m_read\u001b[1;34m(filepath_or_buffer, kwds)\u001b[0m\n\u001b[0;32m    602\u001b[0m _validate_names(kwds\u001b[38;5;241m.\u001b[39mget(\u001b[38;5;124m\"\u001b[39m\u001b[38;5;124mnames\u001b[39m\u001b[38;5;124m\"\u001b[39m, \u001b[38;5;28;01mNone\u001b[39;00m))\n\u001b[0;32m    604\u001b[0m \u001b[38;5;66;03m# Create the parser.\u001b[39;00m\n\u001b[1;32m--> 605\u001b[0m parser \u001b[38;5;241m=\u001b[39m \u001b[43mTextFileReader\u001b[49m\u001b[43m(\u001b[49m\u001b[43mfilepath_or_buffer\u001b[49m\u001b[43m,\u001b[49m\u001b[43m \u001b[49m\u001b[38;5;241;43m*\u001b[39;49m\u001b[38;5;241;43m*\u001b[39;49m\u001b[43mkwds\u001b[49m\u001b[43m)\u001b[49m\n\u001b[0;32m    607\u001b[0m \u001b[38;5;28;01mif\u001b[39;00m chunksize \u001b[38;5;129;01mor\u001b[39;00m iterator:\n\u001b[0;32m    608\u001b[0m     \u001b[38;5;28;01mreturn\u001b[39;00m parser\n",
      "File \u001b[1;32mD:\\anaconda3\\lib\\site-packages\\pandas\\io\\parsers\\readers.py:1442\u001b[0m, in \u001b[0;36mTextFileReader.__init__\u001b[1;34m(self, f, engine, **kwds)\u001b[0m\n\u001b[0;32m   1439\u001b[0m     \u001b[38;5;28mself\u001b[39m\u001b[38;5;241m.\u001b[39moptions[\u001b[38;5;124m\"\u001b[39m\u001b[38;5;124mhas_index_names\u001b[39m\u001b[38;5;124m\"\u001b[39m] \u001b[38;5;241m=\u001b[39m kwds[\u001b[38;5;124m\"\u001b[39m\u001b[38;5;124mhas_index_names\u001b[39m\u001b[38;5;124m\"\u001b[39m]\n\u001b[0;32m   1441\u001b[0m \u001b[38;5;28mself\u001b[39m\u001b[38;5;241m.\u001b[39mhandles: IOHandles \u001b[38;5;241m|\u001b[39m \u001b[38;5;28;01mNone\u001b[39;00m \u001b[38;5;241m=\u001b[39m \u001b[38;5;28;01mNone\u001b[39;00m\n\u001b[1;32m-> 1442\u001b[0m \u001b[38;5;28mself\u001b[39m\u001b[38;5;241m.\u001b[39m_engine \u001b[38;5;241m=\u001b[39m \u001b[38;5;28;43mself\u001b[39;49m\u001b[38;5;241;43m.\u001b[39;49m\u001b[43m_make_engine\u001b[49m\u001b[43m(\u001b[49m\u001b[43mf\u001b[49m\u001b[43m,\u001b[49m\u001b[43m \u001b[49m\u001b[38;5;28;43mself\u001b[39;49m\u001b[38;5;241;43m.\u001b[39;49m\u001b[43mengine\u001b[49m\u001b[43m)\u001b[49m\n",
      "File \u001b[1;32mD:\\anaconda3\\lib\\site-packages\\pandas\\io\\parsers\\readers.py:1735\u001b[0m, in \u001b[0;36mTextFileReader._make_engine\u001b[1;34m(self, f, engine)\u001b[0m\n\u001b[0;32m   1733\u001b[0m     \u001b[38;5;28;01mif\u001b[39;00m \u001b[38;5;124m\"\u001b[39m\u001b[38;5;124mb\u001b[39m\u001b[38;5;124m\"\u001b[39m \u001b[38;5;129;01mnot\u001b[39;00m \u001b[38;5;129;01min\u001b[39;00m mode:\n\u001b[0;32m   1734\u001b[0m         mode \u001b[38;5;241m+\u001b[39m\u001b[38;5;241m=\u001b[39m \u001b[38;5;124m\"\u001b[39m\u001b[38;5;124mb\u001b[39m\u001b[38;5;124m\"\u001b[39m\n\u001b[1;32m-> 1735\u001b[0m \u001b[38;5;28mself\u001b[39m\u001b[38;5;241m.\u001b[39mhandles \u001b[38;5;241m=\u001b[39m \u001b[43mget_handle\u001b[49m\u001b[43m(\u001b[49m\n\u001b[0;32m   1736\u001b[0m \u001b[43m    \u001b[49m\u001b[43mf\u001b[49m\u001b[43m,\u001b[49m\n\u001b[0;32m   1737\u001b[0m \u001b[43m    \u001b[49m\u001b[43mmode\u001b[49m\u001b[43m,\u001b[49m\n\u001b[0;32m   1738\u001b[0m \u001b[43m    \u001b[49m\u001b[43mencoding\u001b[49m\u001b[38;5;241;43m=\u001b[39;49m\u001b[38;5;28;43mself\u001b[39;49m\u001b[38;5;241;43m.\u001b[39;49m\u001b[43moptions\u001b[49m\u001b[38;5;241;43m.\u001b[39;49m\u001b[43mget\u001b[49m\u001b[43m(\u001b[49m\u001b[38;5;124;43m\"\u001b[39;49m\u001b[38;5;124;43mencoding\u001b[39;49m\u001b[38;5;124;43m\"\u001b[39;49m\u001b[43m,\u001b[49m\u001b[43m \u001b[49m\u001b[38;5;28;43;01mNone\u001b[39;49;00m\u001b[43m)\u001b[49m\u001b[43m,\u001b[49m\n\u001b[0;32m   1739\u001b[0m \u001b[43m    \u001b[49m\u001b[43mcompression\u001b[49m\u001b[38;5;241;43m=\u001b[39;49m\u001b[38;5;28;43mself\u001b[39;49m\u001b[38;5;241;43m.\u001b[39;49m\u001b[43moptions\u001b[49m\u001b[38;5;241;43m.\u001b[39;49m\u001b[43mget\u001b[49m\u001b[43m(\u001b[49m\u001b[38;5;124;43m\"\u001b[39;49m\u001b[38;5;124;43mcompression\u001b[39;49m\u001b[38;5;124;43m\"\u001b[39;49m\u001b[43m,\u001b[49m\u001b[43m \u001b[49m\u001b[38;5;28;43;01mNone\u001b[39;49;00m\u001b[43m)\u001b[49m\u001b[43m,\u001b[49m\n\u001b[0;32m   1740\u001b[0m \u001b[43m    \u001b[49m\u001b[43mmemory_map\u001b[49m\u001b[38;5;241;43m=\u001b[39;49m\u001b[38;5;28;43mself\u001b[39;49m\u001b[38;5;241;43m.\u001b[39;49m\u001b[43moptions\u001b[49m\u001b[38;5;241;43m.\u001b[39;49m\u001b[43mget\u001b[49m\u001b[43m(\u001b[49m\u001b[38;5;124;43m\"\u001b[39;49m\u001b[38;5;124;43mmemory_map\u001b[39;49m\u001b[38;5;124;43m\"\u001b[39;49m\u001b[43m,\u001b[49m\u001b[43m \u001b[49m\u001b[38;5;28;43;01mFalse\u001b[39;49;00m\u001b[43m)\u001b[49m\u001b[43m,\u001b[49m\n\u001b[0;32m   1741\u001b[0m \u001b[43m    \u001b[49m\u001b[43mis_text\u001b[49m\u001b[38;5;241;43m=\u001b[39;49m\u001b[43mis_text\u001b[49m\u001b[43m,\u001b[49m\n\u001b[0;32m   1742\u001b[0m \u001b[43m    \u001b[49m\u001b[43merrors\u001b[49m\u001b[38;5;241;43m=\u001b[39;49m\u001b[38;5;28;43mself\u001b[39;49m\u001b[38;5;241;43m.\u001b[39;49m\u001b[43moptions\u001b[49m\u001b[38;5;241;43m.\u001b[39;49m\u001b[43mget\u001b[49m\u001b[43m(\u001b[49m\u001b[38;5;124;43m\"\u001b[39;49m\u001b[38;5;124;43mencoding_errors\u001b[39;49m\u001b[38;5;124;43m\"\u001b[39;49m\u001b[43m,\u001b[49m\u001b[43m \u001b[49m\u001b[38;5;124;43m\"\u001b[39;49m\u001b[38;5;124;43mstrict\u001b[39;49m\u001b[38;5;124;43m\"\u001b[39;49m\u001b[43m)\u001b[49m\u001b[43m,\u001b[49m\n\u001b[0;32m   1743\u001b[0m \u001b[43m    \u001b[49m\u001b[43mstorage_options\u001b[49m\u001b[38;5;241;43m=\u001b[39;49m\u001b[38;5;28;43mself\u001b[39;49m\u001b[38;5;241;43m.\u001b[39;49m\u001b[43moptions\u001b[49m\u001b[38;5;241;43m.\u001b[39;49m\u001b[43mget\u001b[49m\u001b[43m(\u001b[49m\u001b[38;5;124;43m\"\u001b[39;49m\u001b[38;5;124;43mstorage_options\u001b[39;49m\u001b[38;5;124;43m\"\u001b[39;49m\u001b[43m,\u001b[49m\u001b[43m \u001b[49m\u001b[38;5;28;43;01mNone\u001b[39;49;00m\u001b[43m)\u001b[49m\u001b[43m,\u001b[49m\n\u001b[0;32m   1744\u001b[0m \u001b[43m\u001b[49m\u001b[43m)\u001b[49m\n\u001b[0;32m   1745\u001b[0m \u001b[38;5;28;01massert\u001b[39;00m \u001b[38;5;28mself\u001b[39m\u001b[38;5;241m.\u001b[39mhandles \u001b[38;5;129;01mis\u001b[39;00m \u001b[38;5;129;01mnot\u001b[39;00m \u001b[38;5;28;01mNone\u001b[39;00m\n\u001b[0;32m   1746\u001b[0m f \u001b[38;5;241m=\u001b[39m \u001b[38;5;28mself\u001b[39m\u001b[38;5;241m.\u001b[39mhandles\u001b[38;5;241m.\u001b[39mhandle\n",
      "File \u001b[1;32mD:\\anaconda3\\lib\\site-packages\\pandas\\io\\common.py:856\u001b[0m, in \u001b[0;36mget_handle\u001b[1;34m(path_or_buf, mode, encoding, compression, memory_map, is_text, errors, storage_options)\u001b[0m\n\u001b[0;32m    851\u001b[0m \u001b[38;5;28;01melif\u001b[39;00m \u001b[38;5;28misinstance\u001b[39m(handle, \u001b[38;5;28mstr\u001b[39m):\n\u001b[0;32m    852\u001b[0m     \u001b[38;5;66;03m# Check whether the filename is to be opened in binary mode.\u001b[39;00m\n\u001b[0;32m    853\u001b[0m     \u001b[38;5;66;03m# Binary mode does not support 'encoding' and 'newline'.\u001b[39;00m\n\u001b[0;32m    854\u001b[0m     \u001b[38;5;28;01mif\u001b[39;00m ioargs\u001b[38;5;241m.\u001b[39mencoding \u001b[38;5;129;01mand\u001b[39;00m \u001b[38;5;124m\"\u001b[39m\u001b[38;5;124mb\u001b[39m\u001b[38;5;124m\"\u001b[39m \u001b[38;5;129;01mnot\u001b[39;00m \u001b[38;5;129;01min\u001b[39;00m ioargs\u001b[38;5;241m.\u001b[39mmode:\n\u001b[0;32m    855\u001b[0m         \u001b[38;5;66;03m# Encoding\u001b[39;00m\n\u001b[1;32m--> 856\u001b[0m         handle \u001b[38;5;241m=\u001b[39m \u001b[38;5;28;43mopen\u001b[39;49m\u001b[43m(\u001b[49m\n\u001b[0;32m    857\u001b[0m \u001b[43m            \u001b[49m\u001b[43mhandle\u001b[49m\u001b[43m,\u001b[49m\n\u001b[0;32m    858\u001b[0m \u001b[43m            \u001b[49m\u001b[43mioargs\u001b[49m\u001b[38;5;241;43m.\u001b[39;49m\u001b[43mmode\u001b[49m\u001b[43m,\u001b[49m\n\u001b[0;32m    859\u001b[0m \u001b[43m            \u001b[49m\u001b[43mencoding\u001b[49m\u001b[38;5;241;43m=\u001b[39;49m\u001b[43mioargs\u001b[49m\u001b[38;5;241;43m.\u001b[39;49m\u001b[43mencoding\u001b[49m\u001b[43m,\u001b[49m\n\u001b[0;32m    860\u001b[0m \u001b[43m            \u001b[49m\u001b[43merrors\u001b[49m\u001b[38;5;241;43m=\u001b[39;49m\u001b[43merrors\u001b[49m\u001b[43m,\u001b[49m\n\u001b[0;32m    861\u001b[0m \u001b[43m            \u001b[49m\u001b[43mnewline\u001b[49m\u001b[38;5;241;43m=\u001b[39;49m\u001b[38;5;124;43m\"\u001b[39;49m\u001b[38;5;124;43m\"\u001b[39;49m\u001b[43m,\u001b[49m\n\u001b[0;32m    862\u001b[0m \u001b[43m        \u001b[49m\u001b[43m)\u001b[49m\n\u001b[0;32m    863\u001b[0m     \u001b[38;5;28;01melse\u001b[39;00m:\n\u001b[0;32m    864\u001b[0m         \u001b[38;5;66;03m# Binary mode\u001b[39;00m\n\u001b[0;32m    865\u001b[0m         handle \u001b[38;5;241m=\u001b[39m \u001b[38;5;28mopen\u001b[39m(handle, ioargs\u001b[38;5;241m.\u001b[39mmode)\n",
      "\u001b[1;31mFileNotFoundError\u001b[0m: [Errno 2] No such file or directory: 'Waste_collected_per_month (2).csv'"
     ]
    }
   ],
   "source": [
    "df=pd.read_csv('Waste_collected_per_month (2).csv') \n",
    "df.head()"
   ]
  },
  {
   "cell_type": "code",
   "execution_count": null,
   "id": "sBcWctXsS-7i",
   "metadata": {
    "id": "sBcWctXsS-7i"
   },
   "outputs": [],
   "source": [
    "import pandas as pd"
   ]
  },
  {
   "cell_type": "code",
   "execution_count": null,
   "id": "VDhmFZ3RVNu5",
   "metadata": {
    "colab": {
     "base_uri": "https://localhost:8080/",
     "height": 454
    },
    "id": "VDhmFZ3RVNu5",
    "outputId": "d0144312-c324-468e-d2fe-d5eb402dedf8"
   },
   "outputs": [],
   "source": [
    "import seaborn as sns\n",
    "import pandas\n",
    "import matplotlib.pyplot as plt\n",
    "\n",
    "\n",
    "sns.set_theme(style='whitegrid')\n",
    "sns.jointplot(data=df,x='public_litter_bins',y='street_sweepings', hue= 'smart_bin', palette='husl')"
   ]
  },
  {
   "cell_type": "markdown",
   "id": "kDV9r33kawN2",
   "metadata": {
    "id": "kDV9r33kawN2"
   },
   "source": [
    "Interpretation\n",
    "\n",
    "x is the independent variable which infers whether smart bin or no smart bin, there will always be public litter bin on the streets/road in the city of melbourne.\n",
    "Y is the dependent variable which means there will only be need for street_sweepings if there are bin overflowing when ordinary public litter bins are used."
   ]
  },
  {
   "cell_type": "code",
   "execution_count": null,
   "id": "UcJYUQglrTeq",
   "metadata": {
    "colab": {
     "base_uri": "https://localhost:8080/",
     "height": 454
    },
    "id": "UcJYUQglrTeq",
    "outputId": "c5b7f14a-000c-485c-d44c-1a4873386892"
   },
   "outputs": [],
   "source": [
    "sns.set_theme(style='darkgrid')\n",
    "sns.jointplot(data=df,x='public_litter_bins',y='dumped_rubbish',hue='smart_bin',palette='flare')"
   ]
  },
  {
   "cell_type": "markdown",
   "id": "BmDiqSV7wesc",
   "metadata": {
    "id": "BmDiqSV7wesc"
   },
   "source": [
    "**Build Analysis Model**"
   ]
  },
  {
   "cell_type": "markdown",
   "id": "rdFzzqSIvl_A",
   "metadata": {
    "id": "rdFzzqSIvl_A"
   },
   "source": [
    "**Visualing a sample data set on Bin availability**"
   ]
  },
  {
   "cell_type": "code",
   "execution_count": null,
   "id": "WFfwhUihv9on",
   "metadata": {
    "colab": {
     "base_uri": "https://localhost:8080/",
     "height": 357
    },
    "id": "WFfwhUihv9on",
    "outputId": "c79d1249-4d01-453d-bd39-f71759a0655a"
   },
   "outputs": [],
   "source": [
    "sample=pd.read_csv('sample_datasets.csv') \n",
    "sample.head()"
   ]
  },
  {
   "cell_type": "code",
   "execution_count": null,
   "id": "6r0iecDHca2Z",
   "metadata": {
    "colab": {
     "base_uri": "https://localhost:8080/",
     "height": 454
    },
    "id": "6r0iecDHca2Z",
    "outputId": "07e434f6-a013-4396-db8e-0a2218457c2e"
   },
   "outputs": [],
   "source": [
    "\n",
    "sns.set_theme(style='whitegrid')\n",
    "sns.jointplot(data=sample,x='public_litter_bins', y='street_sweepings', hue='smart_bin', palette='crest')"
   ]
  },
  {
   "cell_type": "markdown",
   "id": "CgarjKZIQdGU",
   "metadata": {
    "id": "CgarjKZIQdGU"
   },
   "source": [
    "The above signifies a correlation between incease in public litters and street sweepings ion which the x variable, public litter bin is an independent variable and increase in tonnes is subject to usage be it ordinary bin or smart bins however, street sweepings is dependent on usage of ordinary bins in major streets and roads where cafes', food restaurant or pedestrain concentration are huge and no fill level for bin colections are not automated. "
   ]
  },
  {
   "cell_type": "markdown",
   "id": "Rsf6taKBchD0",
   "metadata": {
    "id": "Rsf6taKBchD0"
   },
   "source": [
    "Visualizing the trend to predict the correlation between increase in total waste in tonnes collected via public litter bins, sweep_sweepings, illegal_ dumpings in the increase in factors generating waste. \n",
    "\n",
    "Factors that generate waste has been streamlined to paper cups, food wrappers, cardboard boxes or plastic bottles on the ground that when buyers do not seat to consume their food/coffee in a post covid era, they dump it wherever possible.\n",
    "\n",
    "As events/festivals resumes, influx into the city of melbourne surges having a correlation effect on usage of cafes and food/restaurant services in the city of Melbourne.\n",
    "\n",
    "The more events occur, the more influx of people on the streets and the more they patronize cafe's and eateries/restaurants, the latter which generate huge litters."
   ]
  },
  {
   "cell_type": "code",
   "execution_count": null,
   "id": "1F-pg_RQgcAJ",
   "metadata": {
    "id": "1F-pg_RQgcAJ"
   },
   "outputs": [],
   "source": [
    "import pandas as pd\n",
    "import numpy as np\n",
    "import seaborn as sns\n",
    "import matplotlib.pyplot as plt\n",
    "import statsmodels.api as sm \n",
    "from sklearn.preprocessing import StandardScaler \n",
    "from sklearn.model_selection import train_test_split\n",
    "from sklearn.linear_model import LinearRegression\n",
    "from sklearn.metrics import mean_squared_error, mean_absolute_error, r2_score\n",
    "%matplotlib inline\n",
    "sns.set_style('darkgrid')"
   ]
  },
  {
   "cell_type": "code",
   "execution_count": null,
   "id": "NYycdOQ3gr4c",
   "metadata": {
    "colab": {
     "base_uri": "https://localhost:8080/",
     "height": 357
    },
    "id": "NYycdOQ3gr4c",
    "outputId": "ecdd8709-283a-4695-d15d-c3665daf5c24"
   },
   "outputs": [],
   "source": [
    "sample = pd.read_csv('sample_datasets.csv')\n",
    "sample.head()"
   ]
  }
 ],
 "metadata": {
  "colab": {
   "collapsed_sections": [],
   "provenance": []
  },
  "kernelspec": {
   "display_name": "Python 3 (ipykernel)",
   "language": "python",
   "name": "python3"
  },
  "language_info": {
   "codemirror_mode": {
    "name": "ipython",
    "version": 3
   },
   "file_extension": ".py",
   "mimetype": "text/x-python",
   "name": "python",
   "nbconvert_exporter": "python",
   "pygments_lexer": "ipython3",
   "version": "3.8.8"
  }
 },
 "nbformat": 4,
 "nbformat_minor": 5
}
